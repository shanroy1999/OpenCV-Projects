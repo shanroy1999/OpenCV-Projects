{
 "cells": [
  {
   "cell_type": "code",
   "execution_count": 1,
   "metadata": {},
   "outputs": [],
   "source": [
    "import cv2\n",
    "import numpy as np"
   ]
  },
  {
   "cell_type": "code",
   "execution_count": 2,
   "metadata": {},
   "outputs": [],
   "source": [
    "def nothing(x):\n",
    "    pass"
   ]
  },
  {
   "cell_type": "code",
   "execution_count": 3,
   "metadata": {},
   "outputs": [],
   "source": [
    "cv2.namedWindow('Image')\n",
    "cv2.createTrackbar('CE1','Image', 0, 500, nothing)\n",
    "cv2.createTrackbar('CE2','Image', 0, 500, nothing)\n",
    "\n",
    "while(1):\n",
    "    img = cv2.imread(r'C:\\Users\\Lenovo\\Desktop\\New folder\\python\\openCV\\Canny Edge Detection\\ronaldo.jpg',0)\n",
    "    pos1 = cv2.getTrackbarPos('CE1', 'Image')\n",
    "    pos2 = cv2.getTrackbarPos('CE2','Image')\n",
    "    canny = cv2.Canny(img, pos1, pos2)\n",
    "    k=cv2.waitKey(1) & 0xFF\n",
    "    if k==27:\n",
    "        break\n",
    "    img = cv2.imshow('Image', canny)\n",
    "cv2.destroyAllWindows()"
   ]
  }
 ],
 "metadata": {
  "kernelspec": {
   "display_name": "Python 3",
   "language": "python",
   "name": "python3"
  },
  "language_info": {
   "codemirror_mode": {
    "name": "ipython",
    "version": 3
   },
   "file_extension": ".py",
   "mimetype": "text/x-python",
   "name": "python",
   "nbconvert_exporter": "python",
   "pygments_lexer": "ipython3",
   "version": "3.7.3"
  }
 },
 "nbformat": 4,
 "nbformat_minor": 2
}
