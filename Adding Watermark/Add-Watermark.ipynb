{
 "cells": [
  {
   "cell_type": "code",
   "execution_count": 1,
   "metadata": {},
   "outputs": [],
   "source": [
    "import cv2\n",
    "import numpy as np"
   ]
  },
  {
   "cell_type": "code",
   "execution_count": 2,
   "metadata": {},
   "outputs": [],
   "source": [
    "logo = cv2.imread(r\"C:\\Users\\Lenovo\\Desktop\\New folder\\python\\openCV\\Adding Watermark\\watermark.jpg\")\n",
    "logo = cv2.resize(logo, (600,300))\n",
    "logo_height, logo_width, ch_logo = logo.shape"
   ]
  },
  {
   "cell_type": "code",
   "execution_count": 3,
   "metadata": {},
   "outputs": [],
   "source": [
    "img = cv2.imread(r\"C:\\Users\\Lenovo\\Desktop\\New folder\\python\\openCV\\Adding Watermark\\room.jpg\")\n",
    "img_height, img_width, ch_img = img.shape"
   ]
  },
  {
   "cell_type": "code",
   "execution_count": 4,
   "metadata": {},
   "outputs": [],
   "source": [
    "center_y = int(img_height/2)\n",
    "center_x = int(img_width/2)\n",
    "top_y = center_y - int(logo_height/2)\n",
    "left_x = center_x - int(logo_width/2)\n",
    "bottom_y = top_y+logo_height\n",
    "right_x = left_x+logo_width"
   ]
  },
  {
   "cell_type": "code",
   "execution_count": 5,
   "metadata": {},
   "outputs": [],
   "source": [
    "roi = img[top_y: bottom_y, left_x: right_x]\n",
    "res = cv2.addWeighted(roi, 1, logo, 0.5, 0)"
   ]
  },
  {
   "cell_type": "code",
   "execution_count": 6,
   "metadata": {},
   "outputs": [],
   "source": [
    "img[top_y: bottom_y, left_x: right_x] = res\n",
    "#  cv2.circle(img, (right_x, bottom_y), 10, (0, 0, 255), -1)\n",
    "#  cv2.circle(img, (left_x, top_y), 10, (0, 0, 255), -1)"
   ]
  },
  {
   "cell_type": "code",
   "execution_count": 7,
   "metadata": {},
   "outputs": [],
   "source": [
    "cv2.imshow(\"LOGO\", logo)\n",
    "cv2.imshow(\"Image\", img)\n",
    "cv2.imshow(\"Result\", res)\n",
    "cv2.imwrite(r\"C:\\Users\\Lenovo\\Desktop\\New folder\\python\\openCV\\Adding Watermark\\room+watermark.jpg\", img)\n",
    "cv2.waitKey(0)\n",
    "cv2.destroyAllWindows()"
   ]
  }
 ],
 "metadata": {
  "kernelspec": {
   "display_name": "Python 3",
   "language": "python",
   "name": "python3"
  },
  "language_info": {
   "codemirror_mode": {
    "name": "ipython",
    "version": 3
   },
   "file_extension": ".py",
   "mimetype": "text/x-python",
   "name": "python",
   "nbconvert_exporter": "python",
   "pygments_lexer": "ipython3",
   "version": "3.7.3"
  }
 },
 "nbformat": 4,
 "nbformat_minor": 2
}
