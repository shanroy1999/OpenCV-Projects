{
 "cells": [
  {
   "cell_type": "code",
   "execution_count": 1,
   "metadata": {},
   "outputs": [],
   "source": [
    "import numpy as np\n",
    "import cv2\n",
    "import os"
   ]
  },
  {
   "cell_type": "code",
   "execution_count": 2,
   "metadata": {},
   "outputs": [
    {
     "data": {
      "text/plain": [
       "['0', '1', '2', '3', '4', '5', '6', '7', '8', '9']"
      ]
     },
     "execution_count": 2,
     "metadata": {},
     "output_type": "execute_result"
    }
   ],
   "source": [
    "PATH = 'C:/Users/Lenovo/Desktop/New folder/python/openCV/Text Detection/myData'\n",
    "myList = os.listdir(PATH)\n",
    "myList"
   ]
  },
  {
   "cell_type": "code",
   "execution_count": 3,
   "metadata": {},
   "outputs": [
    {
     "data": {
      "text/plain": [
       "10"
      ]
     },
     "execution_count": 3,
     "metadata": {},
     "output_type": "execute_result"
    }
   ],
   "source": [
    "# Total number of classes detected\n",
    "len(myList)"
   ]
  },
  {
   "cell_type": "code",
   "execution_count": 4,
   "metadata": {},
   "outputs": [],
   "source": [
    "nClasses = len(myList)\n",
    "images = []\n",
    "classNo = []\n",
    "for x in range(nClasses):\n",
    "    myPicList = os.listdir(PATH + '/' + str(x))\n",
    "    for y in myPicList:\n",
    "        curImg = cv2.imread(PATH + '/' + str(x) + \"/\" + y)\n",
    "        curImg = cv2.resize(curImg, (32, 32))\n",
    "        images.append(curImg)\n",
    "        classNo.append(x)"
   ]
  },
  {
   "cell_type": "code",
   "execution_count": 5,
   "metadata": {},
   "outputs": [
    {
     "data": {
      "text/plain": [
       "10160"
      ]
     },
     "execution_count": 5,
     "metadata": {},
     "output_type": "execute_result"
    }
   ],
   "source": [
    "len(images)"
   ]
  },
  {
   "cell_type": "code",
   "execution_count": 6,
   "metadata": {},
   "outputs": [
    {
     "data": {
      "text/plain": [
       "10160"
      ]
     },
     "execution_count": 6,
     "metadata": {},
     "output_type": "execute_result"
    }
   ],
   "source": [
    "len(classNo)"
   ]
  },
  {
   "cell_type": "code",
   "execution_count": 7,
   "metadata": {},
   "outputs": [
    {
     "name": "stdout",
     "output_type": "stream",
     "text": [
      "(10160, 32, 32, 3)\n",
      "(10160,)\n"
     ]
    }
   ],
   "source": [
    "# Convert list to numpy array and check shape\n",
    "images = np.array(images)\n",
    "classNo = np.array(classNo)\n",
    "\n",
    "print(images.shape)\n",
    "print(classNo.shape)"
   ]
  },
  {
   "cell_type": "markdown",
   "metadata": {},
   "source": [
    "### Splitting the data into training, testing and validation"
   ]
  },
  {
   "cell_type": "code",
   "execution_count": 8,
   "metadata": {},
   "outputs": [],
   "source": [
    "from sklearn.model_selection import train_test_split\n",
    "testRatio = 0.2\n",
    "\n",
    "X_train, X_test, y_train, y_test = train_test_split(images, classNo, test_size=testRatio)"
   ]
  },
  {
   "cell_type": "code",
   "execution_count": 9,
   "metadata": {},
   "outputs": [
    {
     "data": {
      "text/plain": [
       "(8128, 32, 32, 3)"
      ]
     },
     "execution_count": 9,
     "metadata": {},
     "output_type": "execute_result"
    }
   ],
   "source": [
    "X_train.shape"
   ]
  },
  {
   "cell_type": "code",
   "execution_count": 10,
   "metadata": {},
   "outputs": [
    {
     "data": {
      "text/plain": [
       "(2032, 32, 32, 3)"
      ]
     },
     "execution_count": 10,
     "metadata": {},
     "output_type": "execute_result"
    }
   ],
   "source": [
    "X_test.shape"
   ]
  },
  {
   "cell_type": "code",
   "execution_count": 11,
   "metadata": {},
   "outputs": [],
   "source": [
    "validationRatio = 0.2\n",
    "X_train, X_validation, y_train, y_validation = train_test_split(X_train, y_train, test_size=validationRatio)"
   ]
  },
  {
   "cell_type": "code",
   "execution_count": 12,
   "metadata": {},
   "outputs": [
    {
     "data": {
      "text/plain": [
       "(1626, 32, 32, 3)"
      ]
     },
     "execution_count": 12,
     "metadata": {},
     "output_type": "execute_result"
    }
   ],
   "source": [
    "X_validation.shape"
   ]
  },
  {
   "cell_type": "markdown",
   "metadata": {},
   "source": [
    "### Check Distribution of Images for each Class"
   ]
  },
  {
   "cell_type": "code",
   "execution_count": 13,
   "metadata": {},
   "outputs": [
    {
     "name": "stdout",
     "output_type": "stream",
     "text": [
      "[650, 655, 628, 653, 658, 626, 656, 661, 683, 632]\n"
     ]
    }
   ],
   "source": [
    "no_of_samples = []\n",
    "for i in range(nClasses):\n",
    "    # print(len(np.where(y_train==i)[0]))\n",
    "    no_of_samples.append(len(np.where(y_train==i)[0]))\n",
    "print(no_of_samples)"
   ]
  },
  {
   "cell_type": "code",
   "execution_count": 14,
   "metadata": {},
   "outputs": [
    {
     "data": {
      "image/png": "[encoded data removed]",
      "text/plain": [
       "<Figure size 720x360 with 1 Axes>"
      ]
     },
     "metadata": {
      "needs_background": "light"
     },
     "output_type": "display_data"
    }
   ],
   "source": [
    "import matplotlib.pyplot as plt\n",
    "plt.figure(figsize=(10, 5))\n",
    "plt.bar(range(nClasses), no_of_samples)\n",
    "plt.title(\"Number of Images for each Class\")\n",
    "plt.xlabel(\"Class ID\")\n",
    "plt.ylabel(\"Number of Images\")\n",
    "plt.show()"
   ]
  },
  {
   "cell_type": "markdown",
   "metadata": {},
   "source": [
    "### Preprocessing of Images"
   ]
  },
  {
   "cell_type": "code",
   "execution_count": 15,
   "metadata": {},
   "outputs": [
    {
     "data": {
      "text/plain": [
       "(32, 32, 3)"
      ]
     },
     "execution_count": 15,
     "metadata": {},
     "output_type": "execute_result"
    }
   ],
   "source": [
    "X_train[30].shape"
   ]
  },
  {
   "cell_type": "code",
   "execution_count": 16,
   "metadata": {},
   "outputs": [],
   "source": [
    "def preprocess(img):\n",
    "    img = cv2.cvtColor(img, cv2.COLOR_BGR2GRAY)\n",
    "    img = cv2.equalizeHist(img)\n",
    "    img = img / 255\n",
    "    return img"
   ]
  },
  {
   "cell_type": "code",
   "execution_count": 17,
   "metadata": {},
   "outputs": [
    {
     "data": {
      "text/plain": [
       "<matplotlib.image.AxesImage at 0x1656100ad48>"
      ]
     },
     "execution_count": 17,
     "metadata": {},
     "output_type": "execute_result"
    },
    {
     "data": {
      "image/png": "[encoded data removed]",
      "text/plain": [
       "<Figure size 432x288 with 1 Axes>"
      ]
     },
     "metadata": {
      "needs_background": "light"
     },
     "output_type": "display_data"
    }
   ],
   "source": [
    "img = preprocess(X_train[30])\n",
    "img = cv2.resize(img, (300, 300))\n",
    "plt.imshow(img)"
   ]
  },
  {
   "cell_type": "code",
   "execution_count": 18,
   "metadata": {},
   "outputs": [
    {
     "data": {
      "text/plain": [
       "<matplotlib.image.AxesImage at 0x1656107fc48>"
      ]
     },
     "execution_count": 18,
     "metadata": {},
     "output_type": "execute_result"
    },
    {
     "data": {
      "image/png": "[encoded data removed]",
      "text/plain": [
       "<Figure size 432x288 with 1 Axes>"
      ]
     },
     "metadata": {
      "needs_background": "light"
     },
     "output_type": "display_data"
    }
   ],
   "source": [
    "# Preprocess all the images in X_train\n",
    "X_train = np.array(list(map(preprocess, X_train)))\n",
    "img = X_train[30]\n",
    "img = cv2.resize(img, (300, 300))\n",
    "plt.imshow(img)"
   ]
  },
  {
   "cell_type": "code",
   "execution_count": 19,
   "metadata": {},
   "outputs": [
    {
     "data": {
      "text/plain": [
       "(32, 32)"
      ]
     },
     "execution_count": 19,
     "metadata": {},
     "output_type": "execute_result"
    }
   ],
   "source": [
    "X_train[30].shape"
   ]
  },
  {
   "cell_type": "code",
   "execution_count": 20,
   "metadata": {},
   "outputs": [],
   "source": [
    "X_test = np.array(list(map(preprocess, X_test)))\n",
    "X_validation = np.array(list(map(preprocess, X_validation)))"
   ]
  },
  {
   "cell_type": "code",
   "execution_count": 21,
   "metadata": {},
   "outputs": [
    {
     "data": {
      "text/plain": [
       "(6502, 32, 32)"
      ]
     },
     "execution_count": 21,
     "metadata": {},
     "output_type": "execute_result"
    }
   ],
   "source": [
    "X_train.shape"
   ]
  },
  {
   "cell_type": "code",
   "execution_count": 22,
   "metadata": {},
   "outputs": [],
   "source": [
    "# Add depth of 1 to the images for CNN to run properly\n",
    "X_train = X_train.reshape(X_train.shape[0], X_train.shape[1], X_train.shape[2], 1)\n",
    "X_test = X_test.reshape(X_test.shape[0], X_test.shape[1], X_test.shape[2], 1)\n",
    "X_validation = X_validation.reshape(X_validation.shape[0], X_validation.shape[1], X_validation.shape[2], 1)"
   ]
  },
  {
   "cell_type": "code",
   "execution_count": 23,
   "metadata": {},
   "outputs": [
    {
     "data": {
      "text/plain": [
       "(6502, 32, 32, 1)"
      ]
     },
     "execution_count": 23,
     "metadata": {},
     "output_type": "execute_result"
    }
   ],
   "source": [
    "X_train.shape"
   ]
  },
  {
   "cell_type": "markdown",
   "metadata": {},
   "source": [
    "### Apply Image Augmentation to make Dataset more generic"
   ]
  },
  {
   "cell_type": "code",
   "execution_count": 24,
   "metadata": {},
   "outputs": [],
   "source": [
    "from keras.preprocessing.image import ImageDataGenerator\n",
    "\n",
    "dataGen = ImageDataGenerator(width_shift_range=0.1,\n",
    "                             height_shift_range = 0.1,\n",
    "                             zoom_range = 0.2,\n",
    "                             shear_range = 0.1,\n",
    "                             rotation_range = 10)\n",
    "\n",
    "dataGen.fit(X_train)"
   ]
  },
  {
   "cell_type": "code",
   "execution_count": 26,
   "metadata": {},
   "outputs": [],
   "source": [
    "from keras.utils.np_utils import to_categorical\n",
    "\n",
    "y_train = to_categorical(y_train, nClasses)\n",
    "y_validation = to_categorical(y_validation, nClasses)\n",
    "y_test = to_categorical(y_test, nClasses)"
   ]
  },
  {
   "cell_type": "markdown",
   "metadata": {},
   "source": [
    "### Create the Neural Network Model"
   ]
  },
  {
   "cell_type": "code",
   "execution_count": 28,
   "metadata": {},
   "outputs": [],
   "source": [
    "from keras.models import Sequential\n",
    "from keras.layers import Dense, Dropout, Flatten\n",
    "from keras.optimizers import Adam\n",
    "from keras.layers.convolutional import Conv2D, MaxPooling2D"
   ]
  },
  {
   "cell_type": "code",
   "execution_count": 29,
   "metadata": {},
   "outputs": [],
   "source": [
    "imageDimensions = (32, 32, 3)\n",
    "\n",
    "def myModel():\n",
    "    noOfFilters = 60\n",
    "    sizeOfFilters = (5, 5)\n",
    "    sizeOfFilters_2 = (3, 3)\n",
    "    sizeOfPool = (2, 2)\n",
    "    no_of_nodes = 500\n",
    "    \n",
    "    model = Sequential()\n",
    "    model.add((Conv2D(noOfFilters, sizeOfFilters, input_shape=(imageDimensions[0], imageDimensions[1], 1), activation=\"relu\")))\n",
    "    model.add((Conv2D(noOfFilters, sizeOfFilters, activation=\"relu\")))\n",
    "    model.add(MaxPooling2D(pool_size=sizeOfPool))\n",
    "    model.add((Conv2D(noOfFilters//2, sizeOfFilters_2, activation=\"relu\")))\n",
    "    model.add((Conv2D(noOfFilters//2, sizeOfFilters_2, activation=\"relu\")))\n",
    "    model.add(MaxPooling2D(pool_size=sizeOfPool))\n",
    "    model.add(Dropout(0.5))\n",
    "    model.add(Flatten())\n",
    "    model.add(Dense(no_of_nodes, activation=\"relu\"))\n",
    "    model.add(Dropout(0.5))\n",
    "    model.add(Dense(nClasses, activation=\"softmax\"))\n",
    "    \n",
    "    model.compile(Adam(lr=0.001), loss=\"categorical_crossentropy\", metrics=['accuracy'])\n",
    "    return model"
   ]
  },
  {
   "cell_type": "code",
   "execution_count": 30,
   "metadata": {},
   "outputs": [
    {
     "name": "stdout",
     "output_type": "stream",
     "text": [
      "Model: \"sequential\"\n",
      "_________________________________________________________________\n",
      "Layer (type)                 Output Shape              Param #   \n",
      "=================================================================\n",
      "conv2d (Conv2D)              (None, 28, 28, 60)        1560      \n",
      "_________________________________________________________________\n",
      "conv2d_1 (Conv2D)            (None, 24, 24, 60)        90060     \n",
      "_________________________________________________________________\n",
      "max_pooling2d (MaxPooling2D) (None, 12, 12, 60)        0         \n",
      "_________________________________________________________________\n",
      "conv2d_2 (Conv2D)            (None, 10, 10, 30)        16230     \n",
      "_________________________________________________________________\n",
      "conv2d_3 (Conv2D)            (None, 8, 8, 30)          8130      \n",
      "_________________________________________________________________\n",
      "max_pooling2d_1 (MaxPooling2 (None, 4, 4, 30)          0         \n",
      "_________________________________________________________________\n",
      "dropout (Dropout)            (None, 4, 4, 30)          0         \n",
      "_________________________________________________________________\n",
      "flatten (Flatten)            (None, 480)               0         \n",
      "_________________________________________________________________\n",
      "dense (Dense)                (None, 500)               240500    \n",
      "_________________________________________________________________\n",
      "dropout_1 (Dropout)          (None, 500)               0         \n",
      "_________________________________________________________________\n",
      "dense_1 (Dense)              (None, 10)                5010      \n",
      "=================================================================\n",
      "Total params: 361,490\n",
      "Trainable params: 361,490\n",
      "Non-trainable params: 0\n",
      "_________________________________________________________________\n"
     ]
    }
   ],
   "source": [
    "model = myModel()\n",
    "model.summary()"
   ]
  },
  {
   "cell_type": "code",
   "execution_count": 32,
   "metadata": {},
   "outputs": [
    {
     "name": "stdout",
     "output_type": "stream",
     "text": [
      "Epoch 1/10\n",
      "131/131 [==============================] - 40s 307ms/step - loss: 0.4770 - accuracy: 0.8460 - val_loss: 0.0988 - val_accuracy: 0.9723\n",
      "Epoch 2/10\n",
      "131/131 [==============================] - 40s 305ms/step - loss: 0.3280 - accuracy: 0.8942 - val_loss: 0.0862 - val_accuracy: 0.9803\n",
      "Epoch 3/10\n",
      "131/131 [==============================] - 43s 329ms/step - loss: 0.2695 - accuracy: 0.9110 - val_loss: 0.0519 - val_accuracy: 0.9865\n",
      "Epoch 4/10\n",
      "131/131 [==============================] - 43s 326ms/step - loss: 0.2358 - accuracy: 0.9254 - val_loss: 0.0463 - val_accuracy: 0.9926\n",
      "Epoch 5/10\n",
      "131/131 [==============================] - 41s 310ms/step - loss: 0.1817 - accuracy: 0.9425 - val_loss: 0.0322 - val_accuracy: 0.9920\n",
      "Epoch 6/10\n",
      "131/131 [==============================] - 44s 333ms/step - loss: 0.1741 - accuracy: 0.9408 - val_loss: 0.0291 - val_accuracy: 0.9926\n",
      "Epoch 7/10\n",
      "131/131 [==============================] - 45s 342ms/step - loss: 0.1659 - accuracy: 0.9462 - val_loss: 0.0363 - val_accuracy: 0.9883\n",
      "Epoch 8/10\n",
      "131/131 [==============================] - 44s 333ms/step - loss: 0.1524 - accuracy: 0.9505 - val_loss: 0.0367 - val_accuracy: 0.9883\n",
      "Epoch 9/10\n",
      "131/131 [==============================] - 41s 312ms/step - loss: 0.1532 - accuracy: 0.9519 - val_loss: 0.0260 - val_accuracy: 0.9902\n",
      "Epoch 10/10\n",
      "131/131 [==============================] - 41s 310ms/step - loss: 0.1411 - accuracy: 0.9579 - val_loss: 0.0332 - val_accuracy: 0.9926\n"
     ]
    }
   ],
   "source": [
    "batch_size_val = 50\n",
    "epoch_val = 10\n",
    "steps_per_epoch_val = 2000\n",
    "\n",
    "history = model.fit_generator(dataGen.flow(X_train, y_train,\n",
    "                                 batch_size = batch_size_val),\n",
    "                    epochs = epoch_val,\n",
    "                    validation_data = (X_validation, y_validation),\n",
    "                    shuffle = 1)"
   ]
  },
  {
   "cell_type": "code",
   "execution_count": 33,
   "metadata": {},
   "outputs": [
    {
     "data": {
      "image/png": "[encoded data removed]",
      "text/plain": [
       "<Figure size 432x288 with 1 Axes>"
      ]
     },
     "metadata": {
      "needs_background": "light"
     },
     "output_type": "display_data"
    },
    {
     "data": {
      "image/png": "[encoded data removed]",
      "text/plain": [
       "<Figure size 432x288 with 1 Axes>"
      ]
     },
     "metadata": {
      "needs_background": "light"
     },
     "output_type": "display_data"
    }
   ],
   "source": [
    "plt.figure(1)\n",
    "plt.plot(history.history['loss'])\n",
    "plt.plot(history.history['val_loss'])\n",
    "plt.legend(['training', 'validation'])\n",
    "plt.title(\"Loss\")\n",
    "plt.xlabel('epoch')\n",
    "\n",
    "plt.figure(2)\n",
    "plt.plot(history.history['accuracy'])\n",
    "plt.plot(history.history['val_accuracy'])\n",
    "plt.legend(['training', 'validation'])\n",
    "plt.title(\"Accuracy\")\n",
    "plt.xlabel('epoch')\n",
    "\n",
    "plt.show()"
   ]
  },
  {
   "cell_type": "code",
   "execution_count": 34,
   "metadata": {},
   "outputs": [
    {
     "name": "stdout",
     "output_type": "stream",
     "text": [
      "Test Score:  0.025151297450065613\n",
      "Test Accuract:  0.9916338324546814\n"
     ]
    }
   ],
   "source": [
    "score = model.evaluate(X_test, y_test, verbose=0)\n",
    "print(\"Test Score: \", score[0])\n",
    "print(\"Test Accuract: \", score[1])"
   ]
  },
  {
   "cell_type": "code",
   "execution_count": 35,
   "metadata": {},
   "outputs": [],
   "source": [
    "model.save(r\"C:\\Users\\Lenovo\\Desktop\\New folder\\python\\openCV\\Text Detection\\model_trained.h5\")"
   ]
  },
  {
   "cell_type": "code",
   "execution_count": null,
   "metadata": {},
   "outputs": [],
   "source": []
  }
 ],
 "metadata": {
  "kernelspec": {
   "display_name": "Python 3",
   "language": "python",
   "name": "python3"
  },
  "language_info": {
   "codemirror_mode": {
    "name": "ipython",
    "version": 3
   },
   "file_extension": ".py",
   "mimetype": "text/x-python",
   "name": "python",
   "nbconvert_exporter": "python",
   "pygments_lexer": "ipython3",
   "version": "3.7.6"
  }
 },
 "nbformat": 4,
 "nbformat_minor": 4
}
